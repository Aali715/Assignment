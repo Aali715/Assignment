{
 "cells": [
  {
   "cell_type": "markdown",
   "id": "c94110a8-97c0-45db-889c-428b3a15bb89",
   "metadata": {},
   "source": [
    "# My Jupyter Notebook on IBM Watson Studio"
   ]
  },
  {
   "cell_type": "markdown",
   "id": "66f4d209-0b66-4ab3-ad33-1e99cb990be5",
   "metadata": {},
   "source": [
    "**Afs Ali** <br>  Statistician                                                 "
   ]
  },
  {
   "cell_type": "markdown",
   "id": "8e9760ea-d25e-4fc6-a9ac-f423e8f94567",
   "metadata": {},
   "source": [
    "*I am interested in data science because I love Math*"
   ]
  },
  {
   "cell_type": "markdown",
   "id": "e4167706-6bc0-4edc-92c3-5834f1b66eaf",
   "metadata": {},
   "source": [
    "### The code is supposed to run addition"
   ]
  },
  {
   "cell_type": "code",
   "execution_count": 3,
   "id": "d6b19c5b-e1fc-4d1c-b005-67cd6b406824",
   "metadata": {},
   "outputs": [
    {
     "data": {
      "text/plain": [
       "2"
      ]
     },
     "execution_count": 3,
     "metadata": {},
     "output_type": "execute_result"
    }
   ],
   "source": [
    "(1+1)"
   ]
  },
  {
   "cell_type": "markdown",
   "id": "77e1033b-2e7d-419a-a192-973033c9838b",
   "metadata": {},
   "source": [
    "Three or more...\n",
    "\n",
    "---\n",
    "\n",
    "Hyphens\n",
    "\n",
    "***\n",
    "\n",
    "Asterisks\n",
    "\n",
    "___\n",
    "\n",
    "Underscores\n",
    "\n",
    "(www.yahoo.com)\n",
    "\n",
    "> Blockquotes are sweet.\n",
    "\n",
    "Markdown | Less | Pretty\n",
    "--- | --- | ---\n",
    "*Still* | `renders` | **nicely**\n",
    "1 | 2 | 3\n",
    "\n"
   ]
  }
 ],
 "metadata": {
  "kernelspec": {
   "display_name": "Python",
   "language": "python",
   "name": "conda-env-python-py"
  },
  "language_info": {
   "codemirror_mode": {
    "name": "ipython",
    "version": 3
   },
   "file_extension": ".py",
   "mimetype": "text/x-python",
   "name": "python",
   "nbconvert_exporter": "python",
   "pygments_lexer": "ipython3",
   "version": "3.7.12"
  }
 },
 "nbformat": 4,
 "nbformat_minor": 5
}
